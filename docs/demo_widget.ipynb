{
 "cells": [
  {
   "cell_type": "markdown",
   "id": "e7550c75-31fe-4302-859d-388b3bdffd2a",
   "metadata": {},
   "source": [
    "# Widget to help humans select strings to match\n",
    "\n",
    "The best way to understand this demo is with a Binder notebook since it includes a widget! Click the badge to launch the Binder notebook.\n",
    "\n",
    "[![Binder](https://mybinder.org/badge_logo.svg)](https://mybinder.org/v2/gh/axiom-data-science/cf-pandas/HEAD?labpath=demo_widget.ipynb)\n",
    "\n",
    "---\n",
    "\n",
    "One way to deal with vocabularies (see [vocab demo](https://cf-pandas.readthedocs.io/en/latest/demo_vocab.html)) is to create a vocabulary that represents exactly which variables you want to match with for a given server. This way, when you are interacting with catalogs and data from that server you can be sure that your vocabulary will pull out the correct variables. It is essentially a variable mapping in this use case as opposed to a variable matching. \n",
    "\n",
    "Sometimes the variables we want to search through for making selections could be very long. This widget is meant to help quickly include and exclude strings from the list and then allow for human-centered multi-select with command/control to export a vocabulary."
   ]
  },
  {
   "cell_type": "code",
   "execution_count": 1,
   "id": "f765ed68-8e3a-4eed-ae5f-ef208f605883",
   "metadata": {},
   "outputs": [],
   "source": [
    "import cf_pandas as cfp"
   ]
  },
  {
   "cell_type": "markdown",
   "id": "8d63fd71-863a-48ad-acfa-afc39e089c4f",
   "metadata": {},
   "source": [
    "## Select from list of CF standard_names\n",
    "\n",
    "You can read in all available standard_names with a utility in `cf-pandas` with:\n",
    "\n",
    "`cfp.standard_names()`."
   ]
  },
  {
   "cell_type": "code",
   "execution_count": 2,
   "id": "183a6b32-62c8-4f51-bd7e-232de747616e",
   "metadata": {},
   "outputs": [],
   "source": [
    "names = cfp.standard_names()"
   ]
  },
  {
   "cell_type": "markdown",
   "id": "4aeb1c3a-35ab-45c9-a2e6-64ad59f01b4f",
   "metadata": {},
   "source": [
    "The basic idea is to write in a nickname for the variable you are representing in the top text box, and then select the standard_names that \"count\" as that variable. One problem is that if you don't include and exclude specific strings, the list of standard_names is too long to look through and select what you want for a given variable nickname.\n",
    "\n",
    "Here is an example with a few inputs initialized to demonstrate. You can add more strings to exclude by adding them to the text box with a pipe (\"|\") between strings like `air|change`. You can pipe together terms to include also; the terms are treated as the logical \"or\" so the options list will show strings that have at least one of the \"include\" terms.\n",
    "\n",
    "Once you narrow the options in the dropdown menu enough, you can select the standard_names you want. When you are happy with your selections, click \"Press to save\". This creates an entry in the class \"vocab\" of your variable nickname mapping to the attribute \"standard_name\" exactly matching each of the standard_names selected. Then, you can enter a new variable nickname and repeat the process to create another entry in the vocabulary."
   ]
  },
  {
   "cell_type": "code",
   "execution_count": 3,
   "id": "7a4eb20f-94c6-47e6-99f5-ca6d7f038889",
   "metadata": {},
   "outputs": [
    {
     "data": {
      "application/vnd.jupyter.widget-view+json": {
       "model_id": "f11d8c32024147b49f133734a98783e1",
       "version_major": 2,
       "version_minor": 0
      },
      "text/plain": [
       "interactive(children=(Text(value='temp', description='nickname'), Text(value='temperature', description='inclu…"
      ]
     },
     "metadata": {},
     "output_type": "display_data"
    },
    {
     "data": {
      "application/vnd.jupyter.widget-view+json": {
       "model_id": "ebcc13c3c52d47f889243d7486b0c7ae",
       "version_major": 2,
       "version_minor": 0
      },
      "text/plain": [
       "Button(description='Press to save', style=ButtonStyle())"
      ]
     },
     "metadata": {},
     "output_type": "display_data"
    },
    {
     "data": {
      "application/vnd.jupyter.widget-view+json": {
       "model_id": "76b62b9e4df14e049e833e5d4f9d214f",
       "version_major": 2,
       "version_minor": 0
      },
      "text/plain": [
       "Output()"
      ]
     },
     "metadata": {},
     "output_type": "display_data"
    }
   ],
   "source": [
    "w = cfp.Selector(options=names, nickname_in=\"temp\",\n",
    "                 exclude_in=\"air\", include_in=\"temperature\")\n",
    "\n",
    "w.button_pressed()"
   ]
  },
  {
   "cell_type": "markdown",
   "id": "f554ee11-208b-4d6d-9610-d93d9a84b32f",
   "metadata": {},
   "source": [
    "The rest of the notebook shows results based on the user not changing anything in the widget so the results can be consistent.\n",
    "\n",
    "Look at vocabulary"
   ]
  },
  {
   "cell_type": "code",
   "execution_count": 4,
   "id": "8b5deda9-7e3d-4241-bb25-77990e7ef8ff",
   "metadata": {},
   "outputs": [
    {
     "data": {
      "text/plain": [
       "{'temp': {'standard_name': 'brightness_temperature$'}}"
      ]
     },
     "execution_count": 4,
     "metadata": {},
     "output_type": "execute_result"
    }
   ],
   "source": [
    "w.vocab"
   ]
  },
  {
   "cell_type": "markdown",
   "id": "4d183116-bed7-450e-8b99-1e718507b0d9",
   "metadata": {},
   "source": [
    "Save vocabulary for future use"
   ]
  },
  {
   "cell_type": "code",
   "execution_count": 5,
   "id": "000e2056-f437-4a7e-a3b5-446dae48fbaa",
   "metadata": {},
   "outputs": [],
   "source": [
    "w.vocab.save(\"std_name_demo\")"
   ]
  },
  {
   "cell_type": "markdown",
   "id": "4ec47ea8-e852-4432-ac35-693999a16cdc",
   "metadata": {},
   "source": [
    "Open and check out your vocab with:"
   ]
  },
  {
   "cell_type": "code",
   "execution_count": 6,
   "id": "72703895-15e5-4353-bc65-f245838525b8",
   "metadata": {},
   "outputs": [
    {
     "data": {
      "text/plain": [
       "{'temp': {'standard_name': 'brightness_temperature$'}}"
      ]
     },
     "execution_count": 6,
     "metadata": {},
     "output_type": "execute_result"
    }
   ],
   "source": [
    "cfp.Vocab(\"std_name_demo\")"
   ]
  }
 ],
 "metadata": {
  "kernelspec": {
   "display_name": "Python 3 (ipykernel)",
   "language": "python",
   "name": "python3"
  },
  "language_info": {
   "codemirror_mode": {
    "name": "ipython",
    "version": 3
   },
   "file_extension": ".py",
   "mimetype": "text/x-python",
   "name": "python",
   "nbconvert_exporter": "python",
   "pygments_lexer": "ipython3",
   "version": "3.8.13"
  },
  "widgets": {
   "application/vnd.jupyter.widget-state+json": {
    "state": {
     "0e8f54d874d947ff97f17655a7c45ef4": {
      "model_module": "@jupyter-widgets/base",
      "model_module_version": "2.0.0",
      "model_name": "LayoutModel",
      "state": {}
     },
     "15ed9de9a415437690fd5ec3e4e9c614": {
      "model_module": "@jupyter-widgets/base",
      "model_module_version": "2.0.0",
      "model_name": "LayoutModel",
      "state": {}
     },
     "1e2e220708494d51a243baec4e5f3f0e": {
      "model_module": "@jupyter-widgets/controls",
      "model_module_version": "2.0.0",
      "model_name": "TextStyleModel",
      "state": {
       "description_width": "",
       "font_size": null,
       "text_color": null
      }
     },
     "300e839804bc41d284c9142e52f8fa3e": {
      "model_module": "@jupyter-widgets/controls",
      "model_module_version": "2.0.0",
      "model_name": "TextStyleModel",
      "state": {
       "description_width": "",
       "font_size": null,
       "text_color": null
      }
     },
     "3a419412217a4d3d992aa53bc3e9872a": {
      "model_module": "@jupyter-widgets/base",
      "model_module_version": "2.0.0",
      "model_name": "LayoutModel",
      "state": {}
     },
     "4159ca950f644ac48f330700a6d39b79": {
      "model_module": "@jupyter-widgets/base",
      "model_module_version": "2.0.0",
      "model_name": "LayoutModel",
      "state": {}
     },
     "45be36ecb7de42628dc9a454f38b8a04": {
      "model_module": "@jupyter-widgets/controls",
      "model_module_version": "2.0.0",
      "model_name": "SelectMultipleModel",
      "state": {
       "_options_labels": [
        "brightness_temperature",
        "brightness_temperature_anomaly",
        "brightness_temperature_at_cloud_top",
        "canopy_temperature",
        "change_over_time_in_sea_water_conservative_temperature",
        "change_over_time_in_sea_water_potential_temperature",
        "change_over_time_in_sea_water_temperature",
        "depth_at_maximum_upward_derivative_of_sea_water_potential_temperature",
        "depth_at_shallowest_isotherm_defined_by_soil_temperature",
        "depth_of_isosurface_of_sea_water_potential_temperature",
        "dew_point_temperature",
        "dynamic_tropopause_potential_temperature",
        "fire_temperature",
        "freezing_temperature_of_sea_water",
        "integral_wrt_depth_of_product_of_conservative_temperature_and_sea_water_density",
        "integral_wrt_depth_of_product_of_potential_temperature_and_sea_water_density",
        "integral_wrt_depth_of_sea_water_temperature",
        "land_ice_basal_temperature",
        "land_ice_temperature",
        "number_of_days_with_surface_temperature_below_threshold",
        "ocean_mixed_layer_thickness_defined_by_temperature",
        "product_of_eastward_sea_water_velocity_and_temperature",
        "product_of_northward_sea_water_velocity_and_temperature",
        "ratio_of_sea_water_potential_temperature_anomaly_to_relaxation_timescale",
        "sea_ice_basal_temperature",
        "sea_ice_surface_temperature",
        "sea_ice_temperature",
        "sea_ice_temperature_expressed_as_heat_content",
        "sea_surface_foundation_temperature",
        "sea_surface_skin_temperature",
        "sea_surface_subskin_temperature",
        "sea_surface_temperature",
        "sea_water_added_conservative_temperature",
        "sea_water_added_potential_temperature",
        "sea_water_conservative_temperature",
        "sea_water_potential_temperature",
        "sea_water_potential_temperature_at_sea_floor",
        "sea_water_potential_temperature_expressed_as_heat_content",
        "sea_water_redistributed_conservative_temperature",
        "sea_water_redistributed_potential_temperature",
        "sea_water_temperature",
        "sea_water_temperature_anomaly",
        "sea_water_temperature_at_sea_floor",
        "sea_water_temperature_difference",
        "soil_temperature",
        "square_of_sea_surface_temperature",
        "surface_brightness_temperature",
        "surface_temperature",
        "surface_temperature_anomaly",
        "temperature_at_base_of_ice_sheet_model",
        "temperature_at_top_of_ice_sheet_model",
        "temperature_flux_due_to_evaporation_expressed_as_heat_flux_out_of_sea_water",
        "temperature_flux_due_to_rainfall_expressed_as_heat_flux_into_sea_water",
        "temperature_flux_due_to_runoff_expressed_as_heat_flux_into_sea_water",
        "temperature_in_ground",
        "temperature_in_surface_snow",
        "temperature_of_analysis_of_sea_water",
        "temperature_of_sensor_for_oxygen_in_sea_water",
        "tendency_of_sea_water_conservative_temperature_expressed_as_heat_content",
        "tendency_of_sea_water_conservative_temperature_expressed_as_heat_content_due_to_parameterized_dianeutral_mixing",
        "tendency_of_sea_water_conservative_temperature_expressed_as_heat_content_due_to_parameterized_eddy_advection",
        "tendency_of_sea_water_conservative_temperature_expressed_as_heat_content_due_to_parameterized_mesoscale_eddy_advection",
        "tendency_of_sea_water_conservative_temperature_expressed_as_heat_content_due_to_parameterized_mesoscale_eddy_diffusion",
        "tendency_of_sea_water_conservative_temperature_expressed_as_heat_content_due_to_parameterized_submesoscale_eddy_advection",
        "tendency_of_sea_water_conservative_temperature_expressed_as_heat_content_due_to_residual_mean_advection",
        "tendency_of_sea_water_potential_temperature_expressed_as_heat_content",
        "tendency_of_sea_water_potential_temperature_expressed_as_heat_content_due_to_parameterized_dianeutral_mixing",
        "tendency_of_sea_water_potential_temperature_expressed_as_heat_content_due_to_parameterized_eddy_advection",
        "tendency_of_sea_water_potential_temperature_expressed_as_heat_content_due_to_parameterized_mesoscale_eddy_advection",
        "tendency_of_sea_water_potential_temperature_expressed_as_heat_content_due_to_parameterized_mesoscale_eddy_diffusion",
        "tendency_of_sea_water_potential_temperature_expressed_as_heat_content_due_to_parameterized_submesoscale_eddy_advection",
        "tendency_of_sea_water_potential_temperature_expressed_as_heat_content_due_to_residual_mean_advection",
        "tendency_of_sea_water_temperature",
        "tendency_of_sea_water_temperature_due_to_advection",
        "tendency_of_sea_water_temperature_due_to_horizontal_mixing",
        "tendency_of_sea_water_temperature_due_to_parameterized_eddy_advection",
        "tendency_of_sea_water_temperature_due_to_vertical_mixing",
        "tendency_of_thermal_energy_content_of_surface_snow_due_to_rainfall_temperature_excess_above_freezing",
        "toa_brightness_temperature",
        "toa_brightness_temperature_assuming_clear_sky",
        "toa_brightness_temperature_bias_at_standard_scene_due_to_intercalibration",
        "toa_brightness_temperature_of_standard_scene",
        "tropical_cyclone_eye_brightness_temperature",
        "virtual_temperature",
        "wet_bulb_potential_temperature",
        "wet_bulb_temperature"
       ],
       "description": "Options",
       "index": [
        0
       ],
       "layout": "IPY_MODEL_702d2176fbb74bebb3c2db2464e06e87",
       "rows": 10,
       "style": "IPY_MODEL_914878d4b7e74063ba289b615e245e4a"
      }
     },
     "545b3dafa1fd4650ba26f762df0c521f": {
      "model_module": "@jupyter-widgets/base",
      "model_module_version": "2.0.0",
      "model_name": "LayoutModel",
      "state": {}
     },
     "5bfc5e4b2fac4dea94f138df8616303a": {
      "model_module": "@jupyter-widgets/controls",
      "model_module_version": "2.0.0",
      "model_name": "TextModel",
      "state": {
       "layout": "IPY_MODEL_545b3dafa1fd4650ba26f762df0c521f",
       "style": "IPY_MODEL_d7396bb2300c481f848fbdebd3dcf144",
       "value": "temp"
      }
     },
     "641eebbced0b4a96901c5ba4ffece7c5": {
      "model_module": "@jupyter-widgets/controls",
      "model_module_version": "2.0.0",
      "model_name": "TextModel",
      "state": {
       "description": "exclude",
       "layout": "IPY_MODEL_3a419412217a4d3d992aa53bc3e9872a",
       "style": "IPY_MODEL_1e2e220708494d51a243baec4e5f3f0e",
       "value": "air"
      }
     },
     "702d2176fbb74bebb3c2db2464e06e87": {
      "model_module": "@jupyter-widgets/base",
      "model_module_version": "2.0.0",
      "model_name": "LayoutModel",
      "state": {}
     },
     "74e0875574b5413185b6396c76db8b2d": {
      "model_module": "@jupyter-widgets/controls",
      "model_module_version": "2.0.0",
      "model_name": "TextStyleModel",
      "state": {
       "description_width": "",
       "font_size": null,
       "text_color": null
      }
     },
     "76b62b9e4df14e049e833e5d4f9d214f": {
      "model_module": "@jupyter-widgets/output",
      "model_module_version": "1.0.0",
      "model_name": "OutputModel",
      "state": {
       "layout": "IPY_MODEL_15ed9de9a415437690fd5ec3e4e9c614",
       "outputs": [
        {
         "name": "stdout",
         "output_type": "stream",
         "text": "Vocabulary:  {'temp': {'standard_name': 'brightness_temperature$'}}\n"
        }
       ]
      }
     },
     "7c697bdfbe2f4f989d8c60278164b6d3": {
      "model_module": "@jupyter-widgets/controls",
      "model_module_version": "2.0.0",
      "model_name": "TextModel",
      "state": {
       "description": "include",
       "layout": "IPY_MODEL_dcbf0bd14036480aac5a3059f5fe3124",
       "style": "IPY_MODEL_300e839804bc41d284c9142e52f8fa3e",
       "value": "temperature"
      }
     },
     "831c742fcd2b442dbb143fee16fb0496": {
      "model_module": "@jupyter-widgets/controls",
      "model_module_version": "2.0.0",
      "model_name": "ButtonStyleModel",
      "state": {
       "font_family": null,
       "font_size": null,
       "font_style": null,
       "font_variant": null,
       "font_weight": null,
       "text_color": null,
       "text_decoration": null
      }
     },
     "914878d4b7e74063ba289b615e245e4a": {
      "model_module": "@jupyter-widgets/controls",
      "model_module_version": "2.0.0",
      "model_name": "DescriptionStyleModel",
      "state": {
       "description_width": ""
      }
     },
     "cc469768b1784d38b3b6b7da14b11a07": {
      "model_module": "@jupyter-widgets/controls",
      "model_module_version": "2.0.0",
      "model_name": "TextModel",
      "state": {
       "description": "nickname",
       "layout": "IPY_MODEL_0e8f54d874d947ff97f17655a7c45ef4",
       "style": "IPY_MODEL_74e0875574b5413185b6396c76db8b2d",
       "value": "temp"
      }
     },
     "d7396bb2300c481f848fbdebd3dcf144": {
      "model_module": "@jupyter-widgets/controls",
      "model_module_version": "2.0.0",
      "model_name": "TextStyleModel",
      "state": {
       "description_width": "",
       "font_size": null,
       "text_color": null
      }
     },
     "dcbf0bd14036480aac5a3059f5fe3124": {
      "model_module": "@jupyter-widgets/base",
      "model_module_version": "2.0.0",
      "model_name": "LayoutModel",
      "state": {}
     },
     "ebcc13c3c52d47f889243d7486b0c7ae": {
      "model_module": "@jupyter-widgets/controls",
      "model_module_version": "2.0.0",
      "model_name": "ButtonModel",
      "state": {
       "description": "Press to save",
       "layout": "IPY_MODEL_fb81b154812647b69ba60864e650bfc9",
       "style": "IPY_MODEL_831c742fcd2b442dbb143fee16fb0496",
       "tooltip": null
      }
     },
     "ec25a61d9b6c4d9ca65f382cd909bf84": {
      "model_module": "@jupyter-widgets/output",
      "model_module_version": "1.0.0",
      "model_name": "OutputModel",
      "state": {
       "layout": "IPY_MODEL_4159ca950f644ac48f330700a6d39b79",
       "outputs": [
        {
         "name": "stdout",
         "output_type": "stream",
         "text": "Regular expression:  ^(?!.*(air))(?=.*temperature)\n"
        },
        {
         "data": {
          "application/vnd.jupyter.widget-view+json": {
           "model_id": "45be36ecb7de42628dc9a454f38b8a04",
           "version_major": 2,
           "version_minor": 0
          },
          "text/plain": "SelectMultiple(description='Options', index=(0,), options=('brightness_temperature', 'brightness_temperature_a…"
         },
         "metadata": {},
         "output_type": "display_data"
        }
       ]
      }
     },
     "ec48744e24324adaa9c4b614911d3f57": {
      "model_module": "@jupyter-widgets/base",
      "model_module_version": "2.0.0",
      "model_name": "LayoutModel",
      "state": {}
     },
     "f11d8c32024147b49f133734a98783e1": {
      "model_module": "@jupyter-widgets/controls",
      "model_module_version": "2.0.0",
      "model_name": "VBoxModel",
      "state": {
       "_dom_classes": [
        "widget-interact"
       ],
       "children": [
        "IPY_MODEL_cc469768b1784d38b3b6b7da14b11a07",
        "IPY_MODEL_7c697bdfbe2f4f989d8c60278164b6d3",
        "IPY_MODEL_641eebbced0b4a96901c5ba4ffece7c5",
        "IPY_MODEL_ec25a61d9b6c4d9ca65f382cd909bf84"
       ],
       "layout": "IPY_MODEL_ec48744e24324adaa9c4b614911d3f57"
      }
     },
     "fb81b154812647b69ba60864e650bfc9": {
      "model_module": "@jupyter-widgets/base",
      "model_module_version": "2.0.0",
      "model_name": "LayoutModel",
      "state": {}
     }
    },
    "version_major": 2,
    "version_minor": 0
   }
  }
 },
 "nbformat": 4,
 "nbformat_minor": 5
}
